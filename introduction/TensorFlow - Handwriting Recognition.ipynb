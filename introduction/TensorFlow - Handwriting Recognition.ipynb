{
 "cells": [
  {
   "cell_type": "code",
   "execution_count": 1,
   "metadata": {},
   "outputs": [],
   "source": [
    "import tensorflow as tf\n",
    "from os import path, getcwd, chdir\n",
    "from tensorflow import keras\n",
    "\n",
    "path = f\"{getcwd()}/../tmp2/mnist.npz\""
   ]
  },
  {
   "cell_type": "code",
   "execution_count": 2,
   "metadata": {},
   "outputs": [],
   "source": [
    "class myCallback(tf.keras.callbacks.Callback):\n",
    "    def on_epochs_end(self,epochs,logs={}):\n",
    "        if(logs.get('accuracy')>0.99):\n",
    "            print(\"Reached 99% accuracy so cancelling training!\")\n",
    "            self.model.stop_training=True"
   ]
  },
  {
   "cell_type": "code",
   "execution_count": 3,
   "metadata": {
    "colab": {},
    "colab_type": "code",
    "id": "9rvXQGAA0ssC"
   },
   "outputs": [],
   "source": [
    "def train_mnist():\n",
    "    \n",
    "    callbacks =  myCallback()\n",
    "\n",
    "    mnist = tf.keras.datasets.mnist\n",
    "\n",
    "    (x_train, y_train),(x_test, y_test) = mnist.load_data(path=path)\n",
    "\n",
    "    x_train = x_train / 255.0\n",
    "    x_test = x_test / 255.0\n",
    "\n",
    "    model = tf.keras.models.Sequential([\n",
    "        tf.keras.layers.Flatten(input_shape=(28, 28)),\n",
    "        tf.keras.layers.Dense(512, activation= tf.nn.sigmoid),\n",
    "        tf.keras.layers.Dense(10, activation= tf.nn.softmax)\n",
    "    ])\n",
    "\n",
    "    model.compile(optimizer= 'Adam',\n",
    "                  loss='sparse_categorical_crossentropy',\n",
    "                  metrics=['accuracy'])\n",
    "\n",
    "    history = model.fit(x_train, y_train, epochs=10, callbacks = [callbacks])\n",
    "\n",
    "    return history.epoch, history.history['accuracy'][-1]"
   ]
  },
  {
   "cell_type": "code",
   "execution_count": 4,
   "metadata": {
    "colab": {},
    "colab_type": "code",
    "id": "9rvXQGAA0ssC",
    "scrolled": true
   },
   "outputs": [
    {
     "name": "stderr",
     "output_type": "stream",
     "text": [
      "WARNING: Logging before flag parsing goes to stderr.\n",
      "W1201 15:08:59.174351 140259910330176 deprecation.py:506] From /usr/local/lib/python3.6/dist-packages/tensorflow/python/ops/init_ops.py:1251: calling VarianceScaling.__init__ (from tensorflow.python.ops.init_ops) with dtype is deprecated and will be removed in a future version.\n",
      "Instructions for updating:\n",
      "Call initializer instance with the dtype argument instead of passing it to the constructor\n"
     ]
    },
    {
     "name": "stdout",
     "output_type": "stream",
     "text": [
      "Epoch 1/10\n",
      "60000/60000 [==============================] - 9s 146us/sample - loss: 0.3386 - acc: 0.9046\n",
      "Epoch 2/10\n",
      "60000/60000 [==============================] - 8s 138us/sample - loss: 0.1708 - acc: 0.9493\n",
      "Epoch 3/10\n",
      "60000/60000 [==============================] - 8s 140us/sample - loss: 0.1132 - acc: 0.9660\n",
      "Epoch 4/10\n",
      "60000/60000 [==============================] - 8s 140us/sample - loss: 0.0808 - acc: 0.9760\n",
      "Epoch 5/10\n",
      "60000/60000 [==============================] - 8s 142us/sample - loss: 0.0593 - acc: 0.9826s - l\n",
      "Epoch 6/10\n",
      "60000/60000 [==============================] - 8s 138us/sample - loss: 0.0438 - acc: 0.9871\n",
      "Epoch 7/10\n",
      "60000/60000 [==============================] - 9s 150us/sample - loss: 0.0330 - acc: 0.9905\n",
      "Epoch 8/10\n",
      "60000/60000 [==============================] - 9s 142us/sample - loss: 0.0248 - acc: 0.9929\n",
      "Epoch 9/10\n",
      "60000/60000 [==============================] - 9s 145us/sample - loss: 0.0184 - acc: 0.9953\n",
      "Epoch 10/10\n",
      "60000/60000 [==============================] - 9s 145us/sample - loss: 0.0138 - acc: 0.9968\n"
     ]
    },
    {
     "data": {
      "text/plain": [
       "([0, 1, 2, 3, 4, 5, 6, 7, 8, 9], 0.9967833)"
      ]
     },
     "execution_count": 4,
     "metadata": {},
     "output_type": "execute_result"
    }
   ],
   "source": [
    "train_mnist() "
   ]
  }
 ],
 "metadata": {
  "coursera": {
   "course_slug": "introduction-tensorflow",
   "graded_item_id": "d6dew",
   "launcher_item_id": "FExZ4"
  },
  "kernelspec": {
   "display_name": "Python 3",
   "language": "python",
   "name": "python3"
  },
  "language_info": {
   "codemirror_mode": {
    "name": "ipython",
    "version": 3
   },
   "file_extension": ".py",
   "mimetype": "text/x-python",
   "name": "python",
   "nbconvert_exporter": "python",
   "pygments_lexer": "ipython3",
   "version": "3.6.8"
  }
 },
 "nbformat": 4,
 "nbformat_minor": 1
}
