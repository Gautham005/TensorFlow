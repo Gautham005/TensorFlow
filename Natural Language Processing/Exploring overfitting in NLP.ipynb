{
  "nbformat": 4,
  "nbformat_minor": 0,
  "metadata": {
    "accelerator": "GPU",
    "colab": {
      "name": "Exploring overfitting in NLP.ipynb",
      "provenance": [],
      "collapsed_sections": [],
      "toc_visible": true
    },
    "kernelspec": {
      "name": "python3",
      "display_name": "Python 3"
    },
    "language_info": {
      "name": "python"
    }
  },
  "cells": [
    {
      "cell_type": "code",
      "metadata": {
        "id": "hmA6EzkQJ5jt"
      },
      "source": [
        "import json\n",
        "import tensorflow as tf\n",
        "import csv\n",
        "import random\n",
        "import numpy as np\n",
        "\n",
        "from tensorflow.keras.preprocessing.text import Tokenizer\n",
        "from tensorflow.keras.preprocessing.sequence import pad_sequences\n",
        "from tensorflow.keras.utils import to_categorical\n",
        "from tensorflow.keras import regularizers\n",
        "\n",
        "\n",
        "embedding_dim = 100\n",
        "max_length = 16\n",
        "trunc_type='post'\n",
        "padding_type='post'\n",
        "oov_tok = \"<OOV>\"\n",
        "training_size=160000\n",
        "test_portion=.1\n",
        "\n",
        "corpus = []"
      ],
      "execution_count": 1,
      "outputs": []
    },
    {
      "cell_type": "code",
      "metadata": {
        "id": "bM0l_dORKqE0",
        "colab": {
          "base_uri": "https://localhost:8080/"
        },
        "outputId": "6cff7627-346b-492a-874e-0aa3e861b2b1"
      },
      "source": [
        "# training_cleaned.csv  - We use dataset from: https://www.kaggle.com/kazanova/sentiment140\n",
        "!gdown --id 1wd8KaeCSHxt-nEpMeuHFSNWrDp8joUXJ\n",
        "\n",
        "num_sentences = 0\n",
        "\n",
        "with open(\"./training_cleaned.csv\") as csvfile:\n",
        "    reader = csv.reader(csvfile, delimiter=',')\n",
        "    for row in reader:\n",
        "        list_item=[]\n",
        "        \n",
        "        list_item.append(row[5])\n",
        "        this_label=row[0]\n",
        "        if this_label=='0':\n",
        "            list_item.append(0)\n",
        "        else:\n",
        "            list_item.append(1)\n",
        "        \n",
        "        num_sentences = num_sentences + 1\n",
        "        corpus.append(list_item)\n"
      ],
      "execution_count": 2,
      "outputs": [
        {
          "output_type": "stream",
          "name": "stdout",
          "text": [
            "Downloading...\n",
            "From: https://drive.google.com/uc?id=1wd8KaeCSHxt-nEpMeuHFSNWrDp8joUXJ\n",
            "To: /content/training_cleaned.csv\n",
            "100% 239M/239M [00:01<00:00, 168MB/s]\n"
          ]
        }
      ]
    },
    {
      "cell_type": "code",
      "metadata": {
        "id": "3kxblBUjEUX-",
        "colab": {
          "base_uri": "https://localhost:8080/"
        },
        "outputId": "9555cbc3-bab8-49b3-df87-497090a23fca"
      },
      "source": [
        "print(num_sentences)\n",
        "print(len(corpus))\n",
        "print(corpus[1])"
      ],
      "execution_count": 3,
      "outputs": [
        {
          "output_type": "stream",
          "name": "stdout",
          "text": [
            "1600000\n",
            "1600000\n",
            "[\"is upset that he can't update his Facebook by texting it... and might cry as a result  School today also. Blah!\", 0]\n"
          ]
        }
      ]
    },
    {
      "cell_type": "code",
      "metadata": {
        "id": "ohOGz24lsNAD"
      },
      "source": [
        "sentences=[]\n",
        "labels=[]\n",
        "random.shuffle(corpus)\n",
        "for x in range(training_size):\n",
        "    sentences.append(corpus[x][0])\n",
        "    labels.append(corpus[x][1])\n",
        "\n",
        "\n",
        "tokenizer = Tokenizer()\n",
        "tokenizer.fit_on_texts(sentences)\n",
        "\n",
        "word_index = tokenizer.word_index\n",
        "vocab_size=len(word_index)\n",
        "\n",
        "sequences = tokenizer.texts_to_sequences(sentences)\n",
        "padded = pad_sequences(sequences, maxlen=max_length, padding=padding_type, truncating=trunc_type)\n",
        "\n",
        "split = int(test_portion * training_size)\n",
        "\n",
        "test_sequences = padded[0:split]\n",
        "training_sequences = padded[split:training_size]\n",
        "test_labels = labels[0:split]\n",
        "training_labels = labels[split:training_size]"
      ],
      "execution_count": 4,
      "outputs": []
    },
    {
      "cell_type": "code",
      "metadata": {
        "id": "gIrtRem1En3N",
        "colab": {
          "base_uri": "https://localhost:8080/"
        },
        "outputId": "62bdf85e-6df5-4510-db59-c79f3efd2773"
      },
      "source": [
        "print(vocab_size)\n",
        "print(word_index['i'])"
      ],
      "execution_count": 5,
      "outputs": [
        {
          "output_type": "stream",
          "name": "stdout",
          "text": [
            "138829\n",
            "1\n"
          ]
        }
      ]
    },
    {
      "cell_type": "code",
      "metadata": {
        "id": "C1zdgJkusRh0",
        "colab": {
          "base_uri": "https://localhost:8080/"
        },
        "outputId": "60fdae1f-b432-4abf-f64e-833d5cac849b"
      },
      "source": [
        "# Note this is the 100 dimension version of GloVe from Stanford - We use this for Transfer Learning of an existing set of embeddings.\n",
        "# Overfitting (or underfitting) can happen due to insufficient available dataset to train. So, here we use transfer learning to solve the issue.\n",
        "# glove.6B.100d.txt\n",
        "!gdown --id 1W5vZy2etitAblLdFn8_DxnsQKzfFJ98g\n",
        "\n",
        "embeddings_index = {};\n",
        "with open('./glove.6B.100d.txt') as f:\n",
        "    for line in f:\n",
        "        values = line.split();\n",
        "        word = values[0];\n",
        "        coefs = np.asarray(values[1:], dtype='float32');\n",
        "        embeddings_index[word] = coefs;\n",
        "\n",
        "embeddings_matrix = np.zeros((vocab_size+1, embedding_dim));\n",
        "for word, i in word_index.items():\n",
        "    embedding_vector = embeddings_index.get(word);\n",
        "    if embedding_vector is not None:\n",
        "        embeddings_matrix[i] = embedding_vector;"
      ],
      "execution_count": 6,
      "outputs": [
        {
          "output_type": "stream",
          "name": "stdout",
          "text": [
            "Downloading...\n",
            "From: https://drive.google.com/uc?id=1W5vZy2etitAblLdFn8_DxnsQKzfFJ98g\n",
            "To: /content/glove.6B.100d.txt\n",
            "100% 347M/347M [00:02<00:00, 163MB/s]\n"
          ]
        }
      ]
    },
    {
      "cell_type": "code",
      "metadata": {
        "id": "71NLk_lpFLNt",
        "colab": {
          "base_uri": "https://localhost:8080/"
        },
        "outputId": "1dd2077e-6a30-436a-c317-779d51f56587"
      },
      "source": [
        "print(len(embeddings_matrix))"
      ],
      "execution_count": 7,
      "outputs": [
        {
          "output_type": "stream",
          "name": "stdout",
          "text": [
            "138830\n"
          ]
        }
      ]
    },
    {
      "cell_type": "code",
      "metadata": {
        "id": "iKKvbuEBOGFz",
        "outputId": "64894bd9-9e64-4a36-a2cb-e9068182cf4d",
        "colab": {
          "base_uri": "https://localhost:8080/"
        }
      },
      "source": [
        "model = tf.keras.Sequential([\n",
        "    tf.keras.layers.Embedding(vocab_size+1, embedding_dim, input_length=max_length, weights=[embeddings_matrix], trainable=False),\n",
        "    tf.keras.layers.Dropout(0.2),\n",
        "    tf.keras.layers.Conv1D(64, 5, activation='relu'),\n",
        "    tf.keras.layers.MaxPooling1D(pool_size=4),\n",
        "    tf.keras.layers.LSTM(64),\n",
        "    tf.keras.layers.Dense(1, activation='sigmoid')\n",
        "])\n",
        "model.compile(loss='binary_crossentropy',optimizer='adam',metrics=['accuracy'])\n",
        "model.summary()\n",
        "\n",
        "num_epochs = 20\n",
        "\n",
        "training_padded = np.array(training_sequences)\n",
        "training_labels = np.array(training_labels)\n",
        "testing_padded = np.array(test_sequences)\n",
        "testing_labels = np.array(test_labels)\n",
        "\n",
        "history = model.fit(training_padded, training_labels, epochs=num_epochs, validation_data=(testing_padded, testing_labels), verbose=2)\n",
        "\n",
        "print(\"Training Complete\")"
      ],
      "execution_count": 8,
      "outputs": [
        {
          "output_type": "stream",
          "name": "stdout",
          "text": [
            "Model: \"sequential\"\n",
            "_________________________________________________________________\n",
            " Layer (type)                Output Shape              Param #   \n",
            "=================================================================\n",
            " embedding (Embedding)       (None, 16, 100)           13883000  \n",
            "                                                                 \n",
            " dropout (Dropout)           (None, 16, 100)           0         \n",
            "                                                                 \n",
            " conv1d (Conv1D)             (None, 12, 64)            32064     \n",
            "                                                                 \n",
            " max_pooling1d (MaxPooling1D  (None, 3, 64)            0         \n",
            " )                                                               \n",
            "                                                                 \n",
            " lstm (LSTM)                 (None, 64)                33024     \n",
            "                                                                 \n",
            " dense (Dense)               (None, 1)                 65        \n",
            "                                                                 \n",
            "=================================================================\n",
            "Total params: 13,948,153\n",
            "Trainable params: 65,153\n",
            "Non-trainable params: 13,883,000\n",
            "_________________________________________________________________\n",
            "Epoch 1/20\n",
            "4500/4500 - 24s - loss: 0.5669 - accuracy: 0.6996 - val_loss: 0.5492 - val_accuracy: 0.7091 - 24s/epoch - 5ms/step\n",
            "Epoch 2/20\n",
            "4500/4500 - 19s - loss: 0.5280 - accuracy: 0.7296 - val_loss: 0.5154 - val_accuracy: 0.7412 - 19s/epoch - 4ms/step\n",
            "Epoch 3/20\n",
            "4500/4500 - 19s - loss: 0.5111 - accuracy: 0.7426 - val_loss: 0.5103 - val_accuracy: 0.7469 - 19s/epoch - 4ms/step\n",
            "Epoch 4/20\n",
            "4500/4500 - 19s - loss: 0.4997 - accuracy: 0.7512 - val_loss: 0.5053 - val_accuracy: 0.7488 - 19s/epoch - 4ms/step\n",
            "Epoch 5/20\n",
            "4500/4500 - 19s - loss: 0.4908 - accuracy: 0.7565 - val_loss: 0.5095 - val_accuracy: 0.7458 - 19s/epoch - 4ms/step\n",
            "Epoch 6/20\n",
            "4500/4500 - 19s - loss: 0.4841 - accuracy: 0.7611 - val_loss: 0.5045 - val_accuracy: 0.7510 - 19s/epoch - 4ms/step\n",
            "Epoch 7/20\n",
            "4500/4500 - 19s - loss: 0.4770 - accuracy: 0.7658 - val_loss: 0.5024 - val_accuracy: 0.7477 - 19s/epoch - 4ms/step\n",
            "Epoch 8/20\n",
            "4500/4500 - 19s - loss: 0.4722 - accuracy: 0.7687 - val_loss: 0.5024 - val_accuracy: 0.7525 - 19s/epoch - 4ms/step\n",
            "Epoch 9/20\n",
            "4500/4500 - 19s - loss: 0.4662 - accuracy: 0.7732 - val_loss: 0.5030 - val_accuracy: 0.7524 - 19s/epoch - 4ms/step\n",
            "Epoch 10/20\n",
            "4500/4500 - 19s - loss: 0.4643 - accuracy: 0.7739 - val_loss: 0.5031 - val_accuracy: 0.7487 - 19s/epoch - 4ms/step\n",
            "Epoch 11/20\n",
            "4500/4500 - 19s - loss: 0.4596 - accuracy: 0.7771 - val_loss: 0.5064 - val_accuracy: 0.7512 - 19s/epoch - 4ms/step\n",
            "Epoch 12/20\n",
            "4500/4500 - 19s - loss: 0.4567 - accuracy: 0.7787 - val_loss: 0.5086 - val_accuracy: 0.7531 - 19s/epoch - 4ms/step\n",
            "Epoch 13/20\n",
            "4500/4500 - 19s - loss: 0.4546 - accuracy: 0.7808 - val_loss: 0.5095 - val_accuracy: 0.7489 - 19s/epoch - 4ms/step\n",
            "Epoch 14/20\n",
            "4500/4500 - 19s - loss: 0.4522 - accuracy: 0.7821 - val_loss: 0.5107 - val_accuracy: 0.7471 - 19s/epoch - 4ms/step\n",
            "Epoch 15/20\n",
            "4500/4500 - 19s - loss: 0.4489 - accuracy: 0.7832 - val_loss: 0.5176 - val_accuracy: 0.7460 - 19s/epoch - 4ms/step\n",
            "Epoch 16/20\n",
            "4500/4500 - 19s - loss: 0.4475 - accuracy: 0.7847 - val_loss: 0.5091 - val_accuracy: 0.7460 - 19s/epoch - 4ms/step\n",
            "Epoch 17/20\n",
            "4500/4500 - 19s - loss: 0.4467 - accuracy: 0.7847 - val_loss: 0.5145 - val_accuracy: 0.7438 - 19s/epoch - 4ms/step\n",
            "Epoch 18/20\n",
            "4500/4500 - 19s - loss: 0.4446 - accuracy: 0.7862 - val_loss: 0.5119 - val_accuracy: 0.7463 - 19s/epoch - 4ms/step\n",
            "Epoch 19/20\n",
            "4500/4500 - 19s - loss: 0.4420 - accuracy: 0.7873 - val_loss: 0.5146 - val_accuracy: 0.7514 - 19s/epoch - 4ms/step\n",
            "Epoch 20/20\n",
            "4500/4500 - 19s - loss: 0.4414 - accuracy: 0.7877 - val_loss: 0.5184 - val_accuracy: 0.7484 - 19s/epoch - 4ms/step\n",
            "Training Complete\n"
          ]
        }
      ]
    },
    {
      "cell_type": "code",
      "metadata": {
        "id": "qxju4ItJKO8F",
        "colab": {
          "base_uri": "https://localhost:8080/",
          "height": 607
        },
        "outputId": "300b6eb1-9864-42b9-a810-8d50b1569b0d"
      },
      "source": [
        "import matplotlib.image  as mpimg\n",
        "import matplotlib.pyplot as plt\n",
        "\n",
        "#-----------------------------------------------------------\n",
        "# Retrieve a list of list results on training and test data\n",
        "# sets for each training epoch\n",
        "#-----------------------------------------------------------\n",
        "acc=history.history['accuracy']\n",
        "val_acc=history.history['val_accuracy']\n",
        "loss=history.history['loss']\n",
        "val_loss=history.history['val_loss']\n",
        "\n",
        "epochs=range(len(acc)) # Get number of epochs\n",
        "\n",
        "#------------------------------------------------\n",
        "# Plot training and validation accuracy per epoch\n",
        "#------------------------------------------------\n",
        "plt.plot(epochs, acc, 'r')\n",
        "plt.plot(epochs, val_acc, 'b')\n",
        "plt.title('Training and validation accuracy')\n",
        "plt.xlabel(\"Epochs\")\n",
        "plt.ylabel(\"Accuracy\")\n",
        "plt.legend([\"Accuracy\", \"Validation Accuracy\"])\n",
        "\n",
        "plt.figure()\n",
        "\n",
        "#------------------------------------------------\n",
        "# Plot training and validation loss per epoch\n",
        "#------------------------------------------------\n",
        "plt.plot(epochs, loss, 'r')\n",
        "plt.plot(epochs, val_loss, 'b')\n",
        "plt.title('Training and validation loss')\n",
        "plt.xlabel(\"Epochs\")\n",
        "plt.ylabel(\"Loss\")\n",
        "plt.legend([\"Loss\", \"Validation Loss\"])\n",
        "\n",
        "plt.figure()"
      ],
      "execution_count": 9,
      "outputs": [
        {
          "output_type": "execute_result",
          "data": {
            "text/plain": [
              "<Figure size 432x288 with 0 Axes>"
            ]
          },
          "metadata": {},
          "execution_count": 9
        },
        {
          "output_type": "display_data",
          "data": {
            "image/png": "[encoded data removed]",
            "text/plain": [
              "<Figure size 432x288 with 1 Axes>"
            ]
          },
          "metadata": {
            "needs_background": "light"
          }
        },
        {
          "output_type": "display_data",
          "data": {
            "image/png": "[encoded data removed]",
            "text/plain": [
              "<Figure size 432x288 with 1 Axes>"
            ]
          },
          "metadata": {
            "needs_background": "light"
          }
        },
        {
          "output_type": "display_data",
          "data": {
            "text/plain": [
              "<Figure size 432x288 with 0 Axes>"
            ]
          },
          "metadata": {}
        }
      ]
    }
  ]
}