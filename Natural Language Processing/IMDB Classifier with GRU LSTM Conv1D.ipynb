{
  "nbformat": 4,
  "nbformat_minor": 0,
  "metadata": {
    "accelerator": "GPU",
    "colab": {
      "name": "IMDB Classifier with GRU LSTM Conv1D.ipynb",
      "provenance": [],
      "collapsed_sections": [],
      "toc_visible": true
    },
    "kernelspec": {
      "name": "python3",
      "display_name": "Python 3"
    },
    "language_info": {
      "name": "python"
    }
  },
  "cells": [
    {
      "cell_type": "code",
      "metadata": {
        "id": "P-AhVYeBWgQ3"
      },
      "source": [
        "import tensorflow as tf\n",
        "print(tf.__version__)\n",
        "\n",
        "import tensorflow_datasets as tfds\n",
        "imdb, info = tfds.load(\"imdb_reviews\", with_info=True, as_supervised=True)"
      ],
      "execution_count": null,
      "outputs": []
    },
    {
      "cell_type": "code",
      "metadata": {
        "id": "wHQ2Ko0zl7M4"
      },
      "source": [
        "import numpy as np\n",
        "\n",
        "train_data, test_data = imdb['train'], imdb['test']\n",
        "\n",
        "training_sentences = []\n",
        "training_labels = []\n",
        "\n",
        "testing_sentences = []\n",
        "testing_labels = []\n",
        "\n",
        "# str(s.tonumpy()) is needed in Python3 instead of just s.numpy()\n",
        "for s,l in train_data:\n",
        "  training_sentences.append(str(s.numpy()))\n",
        "  training_labels.append(l.numpy())\n",
        "  \n",
        "for s,l in test_data:\n",
        "  testing_sentences.append(str(s.numpy()))\n",
        "  testing_labels.append(l.numpy())\n",
        "  \n",
        "training_labels_final = np.array(training_labels)\n",
        "testing_labels_final = np.array(testing_labels)\n"
      ],
      "execution_count": 2,
      "outputs": []
    },
    {
      "cell_type": "code",
      "metadata": {
        "id": "7n15yyMdmoH1"
      },
      "source": [
        "vocab_size = 10000\n",
        "embedding_dim = 16\n",
        "max_length = 120\n",
        "trunc_type='post'\n",
        "oov_tok = \"<OOV>\"\n",
        "\n",
        "\n",
        "from tensorflow.keras.preprocessing.text import Tokenizer\n",
        "from tensorflow.keras.preprocessing.sequence import pad_sequences\n",
        "\n",
        "tokenizer = Tokenizer(num_words = vocab_size, oov_token=oov_tok)\n",
        "tokenizer.fit_on_texts(training_sentences)\n",
        "word_index = tokenizer.word_index\n",
        "sequences = tokenizer.texts_to_sequences(training_sentences)\n",
        "padded = pad_sequences(sequences,maxlen=max_length, truncating=trunc_type)\n",
        "\n",
        "testing_sequences = tokenizer.texts_to_sequences(testing_sentences)\n",
        "testing_padded = pad_sequences(testing_sequences,maxlen=max_length)\n"
      ],
      "execution_count": 3,
      "outputs": []
    },
    {
      "cell_type": "code",
      "metadata": {
        "id": "9axf0uIXVMhO",
        "outputId": "d718cc11-ca7a-4cb1-a22c-8d8a2f5bace9",
        "colab": {
          "base_uri": "https://localhost:8080/"
        }
      },
      "source": [
        "reverse_word_index = dict([(value, key) for (key, value) in word_index.items()])\n",
        "\n",
        "def decode_review(text):\n",
        "    return ' '.join([reverse_word_index.get(i, '?') for i in text])\n",
        "\n",
        "print(decode_review(padded[1]))\n",
        "print(training_sentences[1])"
      ],
      "execution_count": 4,
      "outputs": [
        {
          "output_type": "stream",
          "name": "stdout",
          "text": [
            "? ? ? ? ? ? ? b'i have been known to fall asleep during films but this is usually due to a combination of things including really tired being warm and comfortable on the <OOV> and having just eaten a lot however on this occasion i fell asleep because the film was rubbish the plot development was constant constantly slow and boring things seemed to happen but with no explanation of what was causing them or why i admit i may have missed part of the film but i watched the majority of it and everything just seemed to happen of its own <OOV> without any real concern for anything else i cant recommend this film at all '\n",
            "b'I have been known to fall asleep during films, but this is usually due to a combination of things including, really tired, being warm and comfortable on the sette and having just eaten a lot. However on this occasion I fell asleep because the film was rubbish. The plot development was constant. Constantly slow and boring. Things seemed to happen, but with no explanation of what was causing them or why. I admit, I may have missed part of the film, but i watched the majority of it and everything just seemed to happen of its own accord without any real concern for anything else. I cant recommend this film at all.'\n"
          ]
        }
      ]
    },
    {
      "cell_type": "code",
      "metadata": {
        "id": "5NEpdhb8AxID",
        "outputId": "f50f087d-a864-4f6f-b0fc-a3a391373ba2",
        "colab": {
          "base_uri": "https://localhost:8080/"
        }
      },
      "source": [
        "# Model Definition with GRU\n",
        "model = tf.keras.Sequential([\n",
        "    tf.keras.layers.Embedding(vocab_size, embedding_dim, input_length=max_length),\n",
        "    tf.keras.layers.Bidirectional(tf.keras.layers.GRU(32)),\n",
        "    tf.keras.layers.Dense(6, activation='relu'),\n",
        "    tf.keras.layers.Dense(1, activation='sigmoid')\n",
        "])\n",
        "model.compile(loss='binary_crossentropy',optimizer='adam',metrics=['accuracy'])\n",
        "model.summary()\n"
      ],
      "execution_count": 5,
      "outputs": [
        {
          "output_type": "stream",
          "name": "stdout",
          "text": [
            "Model: \"sequential\"\n",
            "_________________________________________________________________\n",
            " Layer (type)                Output Shape              Param #   \n",
            "=================================================================\n",
            " embedding (Embedding)       (None, 120, 16)           160000    \n",
            "                                                                 \n",
            " bidirectional (Bidirectiona  (None, 64)               9600      \n",
            " l)                                                              \n",
            "                                                                 \n",
            " dense (Dense)               (None, 6)                 390       \n",
            "                                                                 \n",
            " dense_1 (Dense)             (None, 1)                 7         \n",
            "                                                                 \n",
            "=================================================================\n",
            "Total params: 169,997\n",
            "Trainable params: 169,997\n",
            "Non-trainable params: 0\n",
            "_________________________________________________________________\n"
          ]
        }
      ]
    },
    {
      "cell_type": "code",
      "metadata": {
        "id": "V5LLrXC-uNX6",
        "outputId": "1d5e8cac-6b9b-47ac-bcb6-b21b9aa6b32e",
        "colab": {
          "base_uri": "https://localhost:8080/"
        }
      },
      "source": [
        "num_epochs = 20\n",
        "history = model.fit(padded, training_labels_final, epochs=num_epochs, validation_data=(testing_padded, testing_labels_final))"
      ],
      "execution_count": 6,
      "outputs": [
        {
          "output_type": "stream",
          "name": "stdout",
          "text": [
            "Epoch 1/20\n",
            "782/782 [==============================] - 86s 104ms/step - loss: 0.5217 - accuracy: 0.7163 - val_loss: 0.3563 - val_accuracy: 0.8466\n",
            "Epoch 2/20\n",
            "782/782 [==============================] - 81s 103ms/step - loss: 0.3096 - accuracy: 0.8748 - val_loss: 0.3878 - val_accuracy: 0.8360\n",
            "Epoch 3/20\n",
            "782/782 [==============================] - 81s 104ms/step - loss: 0.2393 - accuracy: 0.9080 - val_loss: 0.3840 - val_accuracy: 0.8349\n",
            "Epoch 4/20\n",
            "782/782 [==============================] - 82s 104ms/step - loss: 0.1827 - accuracy: 0.9325 - val_loss: 0.4332 - val_accuracy: 0.8343\n",
            "Epoch 5/20\n",
            "782/782 [==============================] - 81s 103ms/step - loss: 0.1378 - accuracy: 0.9511 - val_loss: 0.4650 - val_accuracy: 0.8310\n",
            "Epoch 6/20\n",
            "782/782 [==============================] - 83s 106ms/step - loss: 0.1035 - accuracy: 0.9662 - val_loss: 0.5824 - val_accuracy: 0.8164\n",
            "Epoch 7/20\n",
            "782/782 [==============================] - 83s 106ms/step - loss: 0.0750 - accuracy: 0.9757 - val_loss: 0.6847 - val_accuracy: 0.8183\n",
            "Epoch 8/20\n",
            "782/782 [==============================] - 81s 104ms/step - loss: 0.0558 - accuracy: 0.9820 - val_loss: 0.7495 - val_accuracy: 0.8108\n",
            "Epoch 9/20\n",
            "782/782 [==============================] - 81s 104ms/step - loss: 0.0326 - accuracy: 0.9900 - val_loss: 0.8409 - val_accuracy: 0.8168\n",
            "Epoch 10/20\n",
            "782/782 [==============================] - 82s 104ms/step - loss: 0.0291 - accuracy: 0.9908 - val_loss: 0.8600 - val_accuracy: 0.8082\n",
            "Epoch 11/20\n",
            "782/782 [==============================] - 80s 102ms/step - loss: 0.0228 - accuracy: 0.9926 - val_loss: 0.9355 - val_accuracy: 0.8067\n",
            "Epoch 12/20\n",
            "782/782 [==============================] - 80s 102ms/step - loss: 0.0167 - accuracy: 0.9949 - val_loss: 1.0413 - val_accuracy: 0.8057\n",
            "Epoch 13/20\n",
            "782/782 [==============================] - 80s 102ms/step - loss: 0.0149 - accuracy: 0.9950 - val_loss: 1.1200 - val_accuracy: 0.8042\n",
            "Epoch 14/20\n",
            "782/782 [==============================] - 80s 102ms/step - loss: 0.0127 - accuracy: 0.9955 - val_loss: 1.1581 - val_accuracy: 0.7973\n",
            "Epoch 15/20\n",
            "782/782 [==============================] - 80s 102ms/step - loss: 0.0140 - accuracy: 0.9947 - val_loss: 1.0848 - val_accuracy: 0.8068\n",
            "Epoch 16/20\n",
            "782/782 [==============================] - 80s 103ms/step - loss: 0.0070 - accuracy: 0.9979 - val_loss: 1.3441 - val_accuracy: 0.8042\n",
            "Epoch 17/20\n",
            "782/782 [==============================] - 80s 102ms/step - loss: 0.0099 - accuracy: 0.9968 - val_loss: 1.3115 - val_accuracy: 0.8071\n",
            "Epoch 18/20\n",
            "782/782 [==============================] - 80s 102ms/step - loss: 0.0105 - accuracy: 0.9960 - val_loss: 1.2678 - val_accuracy: 0.8037\n",
            "Epoch 19/20\n",
            "782/782 [==============================] - 82s 105ms/step - loss: 0.0102 - accuracy: 0.9959 - val_loss: 1.3075 - val_accuracy: 0.8119\n",
            "Epoch 20/20\n",
            "782/782 [==============================] - 82s 105ms/step - loss: 0.0076 - accuracy: 0.9972 - val_loss: 1.3986 - val_accuracy: 0.8048\n"
          ]
        }
      ]
    },
    {
      "cell_type": "code",
      "metadata": {
        "id": "nHGYuU4jPYaj",
        "outputId": "dc66061c-94e5-4670-b6b7-51cf5a2247f7",
        "colab": {
          "base_uri": "https://localhost:8080/",
          "height": 541
        }
      },
      "source": [
        "import matplotlib.pyplot as plt\n",
        "\n",
        "\n",
        "def plot_graphs(history, string):\n",
        "  plt.plot(history.history[string])\n",
        "  plt.plot(history.history['val_'+string])\n",
        "  plt.xlabel(\"Epochs\")\n",
        "  plt.ylabel(string)\n",
        "  plt.legend([string, 'val_'+string])\n",
        "  plt.show()\n",
        "\n",
        "plot_graphs(history, 'accuracy')\n",
        "plot_graphs(history, 'loss')"
      ],
      "execution_count": 7,
      "outputs": [
        {
          "output_type": "display_data",
          "data": {
            "image/png": "[encoded data removed]",
            "text/plain": [
              "<Figure size 432x288 with 1 Axes>"
            ]
          },
          "metadata": {
            "needs_background": "light"
          }
        },
        {
          "output_type": "display_data",
          "data": {
            "image/png": "[encoded data removed]",
            "text/plain": [
              "<Figure size 432x288 with 1 Axes>"
            ]
          },
          "metadata": {
            "needs_background": "light"
          }
        }
      ]
    },
    {
      "cell_type": "code",
      "metadata": {
        "id": "wSualgGPPK0S",
        "outputId": "0432ddf2-fc55-4ddc-c837-3945483bf55c",
        "colab": {
          "base_uri": "https://localhost:8080/"
        }
      },
      "source": [
        "# Model Definition with LSTM\n",
        "model = tf.keras.Sequential([\n",
        "    tf.keras.layers.Embedding(vocab_size, embedding_dim, input_length=max_length),\n",
        "    tf.keras.layers.Bidirectional(tf.keras.layers.LSTM(32)),\n",
        "    tf.keras.layers.Dense(6, activation='relu'),\n",
        "    tf.keras.layers.Dense(1, activation='sigmoid')\n",
        "])\n",
        "model.compile(loss='binary_crossentropy',optimizer='adam',metrics=['accuracy'])\n",
        "model.summary()\n"
      ],
      "execution_count": 8,
      "outputs": [
        {
          "output_type": "stream",
          "name": "stdout",
          "text": [
            "Model: \"sequential_1\"\n",
            "_________________________________________________________________\n",
            " Layer (type)                Output Shape              Param #   \n",
            "=================================================================\n",
            " embedding_1 (Embedding)     (None, 120, 16)           160000    \n",
            "                                                                 \n",
            " bidirectional_1 (Bidirectio  (None, 64)               12544     \n",
            " nal)                                                            \n",
            "                                                                 \n",
            " dense_2 (Dense)             (None, 6)                 390       \n",
            "                                                                 \n",
            " dense_3 (Dense)             (None, 1)                 7         \n",
            "                                                                 \n",
            "=================================================================\n",
            "Total params: 172,941\n",
            "Trainable params: 172,941\n",
            "Non-trainable params: 0\n",
            "_________________________________________________________________\n"
          ]
        }
      ]
    },
    {
      "cell_type": "code",
      "metadata": {
        "id": "K_Jc7cY3Qxke",
        "outputId": "dcce3c8a-7571-451e-bb3d-30bb6084ae05",
        "colab": {
          "base_uri": "https://localhost:8080/"
        }
      },
      "source": [
        "# Model Definition with Conv1D\n",
        "model = tf.keras.Sequential([\n",
        "    tf.keras.layers.Embedding(vocab_size, embedding_dim, input_length=max_length),\n",
        "    tf.keras.layers.Conv1D(128, 5, activation='relu'),\n",
        "    tf.keras.layers.GlobalAveragePooling1D(),\n",
        "    tf.keras.layers.Dense(6, activation='relu'),\n",
        "    tf.keras.layers.Dense(1, activation='sigmoid')\n",
        "])\n",
        "model.compile(loss='binary_crossentropy',optimizer='adam',metrics=['accuracy'])\n",
        "model.summary()\n"
      ],
      "execution_count": 9,
      "outputs": [
        {
          "output_type": "stream",
          "name": "stdout",
          "text": [
            "Model: \"sequential_2\"\n",
            "_________________________________________________________________\n",
            " Layer (type)                Output Shape              Param #   \n",
            "=================================================================\n",
            " embedding_2 (Embedding)     (None, 120, 16)           160000    \n",
            "                                                                 \n",
            " conv1d (Conv1D)             (None, 116, 128)          10368     \n",
            "                                                                 \n",
            " global_average_pooling1d (G  (None, 128)              0         \n",
            " lobalAveragePooling1D)                                          \n",
            "                                                                 \n",
            " dense_4 (Dense)             (None, 6)                 774       \n",
            "                                                                 \n",
            " dense_5 (Dense)             (None, 1)                 7         \n",
            "                                                                 \n",
            "=================================================================\n",
            "Total params: 171,149\n",
            "Trainable params: 171,149\n",
            "Non-trainable params: 0\n",
            "_________________________________________________________________\n"
          ]
        }
      ]
    }
  ]
}