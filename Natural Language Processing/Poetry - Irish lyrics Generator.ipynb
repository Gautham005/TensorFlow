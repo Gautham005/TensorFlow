{
  "nbformat": 4,
  "nbformat_minor": 0,
  "metadata": {
    "accelerator": "GPU",
    "colab": {
      "name": "Poetry - Irish lyrics Generator.ipynb",
      "provenance": [],
      "collapsed_sections": [],
      "toc_visible": true
    },
    "kernelspec": {
      "name": "python3",
      "display_name": "Python 3"
    },
    "language_info": {
      "name": "python"
    }
  },
  "cells": [
    {
      "cell_type": "code",
      "metadata": {
        "id": "BOwsuGQQY9OL"
      },
      "source": [
        "import tensorflow as tf\n",
        "\n",
        "from tensorflow.keras.preprocessing.sequence import pad_sequences\n",
        "from tensorflow.keras.layers import Embedding, LSTM, Dense, Bidirectional\n",
        "from tensorflow.keras.preprocessing.text import Tokenizer\n",
        "from tensorflow.keras.models import Sequential\n",
        "from tensorflow.keras.optimizers import Adam\n",
        "import numpy as np"
      ],
      "execution_count": 1,
      "outputs": []
    },
    {
      "cell_type": "code",
      "source": [
        "!gdown --id 15UqmiIm0xwh9mt0IYq2z3jHaauxQSTQT"
      ],
      "metadata": {
        "colab": {
          "base_uri": "https://localhost:8080/"
        },
        "id": "xKR5jQ1hIbqI",
        "outputId": "3cf1291f-4e99-4d80-fa38-1419e9a4eaa3"
      },
      "execution_count": 2,
      "outputs": [
        {
          "output_type": "stream",
          "name": "stdout",
          "text": [
            "Downloading...\n",
            "From: https://drive.google.com/uc?id=15UqmiIm0xwh9mt0IYq2z3jHaauxQSTQT\n",
            "To: /content/irish-lyrics-eof.txt\n",
            "\r  0% 0.00/69.0k [00:00<?, ?B/s]\r100% 69.0k/69.0k [00:00<00:00, 24.6MB/s]\n"
          ]
        }
      ]
    },
    {
      "cell_type": "code",
      "metadata": {
        "id": "PRnDnCW-Z7qv",
        "colab": {
          "base_uri": "https://localhost:8080/"
        },
        "outputId": "2a79b840-9bc1-4ab4-aa45-2860ca53f5da"
      },
      "source": [
        "tokenizer = Tokenizer()\n",
        "\n",
        "data = open('./irish-lyrics-eof.txt').read()\n",
        "\n",
        "corpus = data.lower().split(\"\\n\")\n",
        "\n",
        "tokenizer.fit_on_texts(corpus)\n",
        "total_words = len(tokenizer.word_index) + 1\n",
        "\n",
        "print(\"{} ......... {}\".format(dict(list(tokenizer.word_index.items())[0: 10]), dict(list(tokenizer.word_index.items())[-10:])))\n",
        "print(total_words)                  # Total number of unique words\n"
      ],
      "execution_count": 3,
      "outputs": [
        {
          "output_type": "stream",
          "name": "stdout",
          "text": [
            "{'the': 1, 'and': 2, 'i': 3, 'to': 4, 'a': 5, 'of': 6, 'my': 7, 'in': 8, 'me': 9, 'for': 10} ......... {'roamin': 2680, 'swear': 2681, 'treat': 2682, 'sportin': 2683, 'hurley': 2684, 'bollin': 2685, 'maids': 2686, 'summertime': 2687, 'pluck': 2688, 'yon': 2689}\n",
            "2690\n"
          ]
        }
      ]
    },
    {
      "cell_type": "code",
      "metadata": {
        "id": "soPGVheskaQP"
      },
      "source": [
        "input_sequences = []\t\t\t\t\t\t\t\t\t\t\t\t\t\t\t\t# Input sequences for training data\n",
        "for line in corpus:\n",
        "\ttoken_list = tokenizer.texts_to_sequences([line])[0]\n",
        "\tfor i in range(1, len(token_list)):\n",
        "\t\tn_gram_sequence = token_list[:i+1]\n",
        "\t\tinput_sequences.append(n_gram_sequence)\t\t\t\t\t\t# n-gram sequences. Like, [4,22], [4,22,5], [4,22,5,87], etc.\n",
        "\n",
        "# pad sequences \n",
        "max_sequence_len = max([len(x) for x in input_sequences])\t\t\t\t\t\t\t# length of the longest sentence\n",
        "input_sequences = np.array(pad_sequences(input_sequences, maxlen=max_sequence_len, padding='pre'))\n",
        "\n",
        "# create predictors and label\n",
        "xs, labels = input_sequences[:,:-1],input_sequences[:,-1]\t\t\t\t\t\t\t# Everything except the last value is X and label is the last value of the padded sequence\n",
        "\n",
        "ys = tf.keras.utils.to_categorical(labels, num_classes=total_words)\n",
        "\n",
        "#------------------------------------------------\n",
        "# Example\n",
        "#------------------------------------------------\n",
        "# Sentence: [0 0 0 0 4 2 66 8 67 68 69 70]\n",
        "# X: [0 0 0 0 4 2 66 8 67 68 69]\n",
        "# Label: [70]\n",
        "# Y: [0 0 0 0 0 0 0 0 0 0 0 0 0 0 0 0 0 0 0 0 0 0 ...... 1 0 0 0 0]\n",
        "#------------------------------------------------\n",
        "# Y is an one-hot encoded array where the length is the size of the corpus of words\n",
        "# and the value is set to one (1) is the one at the index of the label which in this case is the 70th element."
      ],
      "execution_count": 4,
      "outputs": []
    },
    {
      "cell_type": "code",
      "metadata": {
        "id": "pJtwVB2NbOAP",
        "colab": {
          "base_uri": "https://localhost:8080/"
        },
        "outputId": "553e6780-0562-42ee-aa28-3f33329e82ef"
      },
      "source": [
        "print(tokenizer.word_index['in'])\n",
        "print(tokenizer.word_index['the'])\n",
        "print(tokenizer.word_index['town'])\n",
        "print(tokenizer.word_index['of'])\n",
        "print(tokenizer.word_index['athy'])\n",
        "print(tokenizer.word_index['one'])\n",
        "print(tokenizer.word_index['jeremy'])\n",
        "print(tokenizer.word_index['lanigan'])"
      ],
      "execution_count": 5,
      "outputs": [
        {
          "output_type": "stream",
          "name": "stdout",
          "text": [
            "8\n",
            "1\n",
            "71\n",
            "6\n",
            "713\n",
            "39\n",
            "1790\n",
            "1791\n"
          ]
        }
      ]
    },
    {
      "cell_type": "code",
      "source": [
        "print(xs[6])"
      ],
      "metadata": {
        "colab": {
          "base_uri": "https://localhost:8080/"
        },
        "id": "pQ6n2iLH8yHf",
        "outputId": "9276e947-1363-423f-f668-5ed0dee7bd7c"
      },
      "execution_count": 6,
      "outputs": [
        {
          "output_type": "stream",
          "name": "stdout",
          "text": [
            "[0 0 0 0 0 0 0 0 0 0 0 0 0 0 2]\n"
          ]
        }
      ]
    },
    {
      "cell_type": "code",
      "source": [
        "print(ys[6])"
      ],
      "metadata": {
        "colab": {
          "base_uri": "https://localhost:8080/"
        },
        "id": "_ew7MAuI8d7J",
        "outputId": "0fc5553d-88bf-43a2-a437-07023aff4304"
      },
      "execution_count": 7,
      "outputs": [
        {
          "output_type": "stream",
          "name": "stdout",
          "text": [
            "[0. 0. 0. ... 0. 0. 0.]\n"
          ]
        }
      ]
    },
    {
      "cell_type": "code",
      "source": [
        "print(xs[5])\n",
        "print(ys[5])"
      ],
      "metadata": {
        "colab": {
          "base_uri": "https://localhost:8080/"
        },
        "id": "Dt47OAgc8g9I",
        "outputId": "3743e7e9-cd54-4628-d679-322f0e6602b8"
      },
      "execution_count": 8,
      "outputs": [
        {
          "output_type": "stream",
          "name": "stdout",
          "text": [
            "[   0    0    0    0    0    0    0    0    0   51   12   96 1217   48\n",
            "    2]\n",
            "[0. 0. 0. ... 0. 0. 0.]\n"
          ]
        }
      ]
    },
    {
      "cell_type": "code",
      "metadata": {
        "id": "49Cv68JOakwv",
        "colab": {
          "base_uri": "https://localhost:8080/"
        },
        "outputId": "4e5e9f40-fe56-4b51-b65f-9eac54429298"
      },
      "source": [
        "print(xs)"
      ],
      "execution_count": 9,
      "outputs": [
        {
          "output_type": "stream",
          "name": "stdout",
          "text": [
            "[[  0   0   0 ...   0   0  51]\n",
            " [  0   0   0 ...   0  51  12]\n",
            " [  0   0   0 ...  51  12  96]\n",
            " ...\n",
            " [  0   0   0 ...   0   0  47]\n",
            " [  0   0   0 ...   0  47 105]\n",
            " [  0   0   0 ...  47 105 138]]\n"
          ]
        }
      ]
    },
    {
      "cell_type": "code",
      "metadata": {
        "id": "iY-jwvfgbEF8",
        "colab": {
          "base_uri": "https://localhost:8080/"
        },
        "outputId": "09db2c13-8ae3-41b2-ae49-607ca08085ed"
      },
      "source": [
        "print(ys)"
      ],
      "execution_count": 10,
      "outputs": [
        {
          "output_type": "stream",
          "name": "stdout",
          "text": [
            "[[0. 0. 0. ... 0. 0. 0.]\n",
            " [0. 0. 0. ... 0. 0. 0.]\n",
            " [0. 0. 0. ... 0. 0. 0.]\n",
            " ...\n",
            " [0. 0. 0. ... 0. 0. 0.]\n",
            " [0. 0. 0. ... 0. 0. 0.]\n",
            " [0. 0. 0. ... 0. 0. 0.]]\n"
          ]
        }
      ]
    },
    {
      "cell_type": "code",
      "metadata": {
        "id": "w9vH8Y59ajYL",
        "colab": {
          "base_uri": "https://localhost:8080/"
        },
        "outputId": "0c57a39d-ab64-490a-c3b5-8e1b5e0909bc"
      },
      "source": [
        "model = Sequential()\n",
        "model.add(Embedding(total_words, 100, input_length=max_sequence_len-1))\n",
        "model.add(Bidirectional(LSTM(150)))\n",
        "model.add(Dense(total_words, activation='softmax'))                             # size of Y is the total number of words in the corpus. Here, it's 2690\n",
        "adam = Adam(lr=0.01)\n",
        "model.compile(loss='categorical_crossentropy', optimizer=adam, metrics=['accuracy'])\n",
        "#earlystop = EarlyStopping(monitor='val_loss', min_delta=0, patience=5, verbose=0, mode='auto')\n",
        "history = model.fit(xs, ys, epochs=100, verbose=1)"
      ],
      "execution_count": 12,
      "outputs": [
        {
          "output_type": "stream",
          "name": "stdout",
          "text": [
            "377/377 [==============================] - 25s 66ms/step - loss: 0.8529 - accuracy: 0.7747\n",
            "Epoch 92/100\n",
            "377/377 [==============================] - 24s 64ms/step - loss: 0.8064 - accuracy: 0.7873\n",
            "Epoch 93/100\n",
            "377/377 [==============================] - 24s 64ms/step - loss: 0.8060 - accuracy: 0.7858\n",
            "Epoch 94/100\n",
            "377/377 [==============================] - 24s 64ms/step - loss: 0.8472 - accuracy: 0.7816\n",
            "Epoch 95/100\n",
            "377/377 [==============================] - 24s 64ms/step - loss: 0.9113 - accuracy: 0.7648\n",
            "Epoch 96/100\n",
            "377/377 [==============================] - 24s 64ms/step - loss: 0.8755 - accuracy: 0.7692\n",
            "Epoch 97/100\n",
            "377/377 [==============================] - 24s 64ms/step - loss: 0.8721 - accuracy: 0.7726\n",
            "Epoch 98/100\n",
            "377/377 [==============================] - 24s 65ms/step - loss: 0.8705 - accuracy: 0.7737\n",
            "Epoch 99/100\n",
            "377/377 [==============================] - 24s 64ms/step - loss: 0.8384 - accuracy: 0.7809\n",
            "Epoch 100/100\n",
            "377/377 [==============================] - 24s 64ms/step - loss: 0.8132 - accuracy: 0.7858\n"
          ]
        }
      ]
    },
    {
      "cell_type": "code",
      "metadata": {
        "id": "3YXGelKThoTT"
      },
      "source": [
        "import matplotlib.pyplot as plt\n",
        "\n",
        "\n",
        "def plot_graphs(history, string):\n",
        "  plt.plot(history.history[string])\n",
        "  plt.xlabel(\"Epochs\")\n",
        "  plt.ylabel(string)\n",
        "  plt.show()"
      ],
      "execution_count": 13,
      "outputs": []
    },
    {
      "cell_type": "code",
      "metadata": {
        "id": "poeprYK8h-c7",
        "colab": {
          "base_uri": "https://localhost:8080/",
          "height": 278
        },
        "outputId": "74dbb0c2-b250-457d-a122-3a5d0277a7d6"
      },
      "source": [
        "plot_graphs(history, 'accuracy')\n"
      ],
      "execution_count": 14,
      "outputs": [
        {
          "output_type": "display_data",
          "data": {
            "image/png": "[encoded data removed]",
            "text/plain": [
              "<Figure size 432x288 with 1 Axes>"
            ]
          },
          "metadata": {
            "needs_background": "light"
          }
        }
      ]
    },
    {
      "cell_type": "code",
      "metadata": {
        "id": "6Vc6PHgxa6Hm",
        "colab": {
          "base_uri": "https://localhost:8080/"
        },
        "outputId": "8f319ca3-e439-4066-c95e-d271a5550f37"
      },
      "source": [
        "seed_text = \"Gautham went to Canada\"\n",
        "next_words = 50\n",
        "  \n",
        "for _ in range(next_words):\n",
        "\ttoken_list = tokenizer.texts_to_sequences([seed_text])[0]\t\t\t\t\t\t\t\t\t\t\t# Tokenize the seed_text using texts_to_sequences. Like, [15, 21, 9]. \n",
        "\t\t\t\t\t\t\t\t\t\t\t\t\t\t\t\t\t\t\t\t\t\t\t\t\t\t\t\t\t\t\t\t\t\t\t\t\t\t\t\t# Here it will Ignore \"Gautham\" which isn't in the corpus.\n",
        "\n",
        "\ttoken_list = pad_sequences([token_list], maxlen=max_sequence_len-1, padding='pre')\t\t# This will pad the sequence to match the trainng set.\n",
        "\n",
        "\tpredict_x = model.predict(token_list, verbose=0)\t\t\t\t\t\t\t\t\t\t\t\t\t\t\t# We will pass to model to get prediction back.\n",
        "\tpredicted = np.argmax(predict_x, axis=1)\t\t\t\t\t\t\t\t\t\t\t\t\t\t\t\t\t\t\t# This will give token of the word most likely to be the next in the sequence.\n",
        "\n",
        "\toutput_word = \"\"\n",
        "\tfor word, index in tokenizer.word_index.items():\t\t\t\t\t\t\t\t\t\t\t\t\t\t\t# We reverse lookup on the word index to turn the token back into word.\n",
        "\t\tif index == predicted:\n",
        "\t\t\toutput_word = word\n",
        "\t\t\tbreak\n",
        "\tseed_text += \" \" + output_word\t\t\t\t\t\t\t\t\t\t\t\t\t\t\t\t\t\t\t\t\t\t\t\t# We then add that to our seed text.\n",
        "print(seed_text)"
      ],
      "execution_count": 19,
      "outputs": [
        {
          "output_type": "stream",
          "name": "stdout",
          "text": [
            "Gautham went to Canada the young and my love seen was rich but never nice on so we left me scarce at divinity many up from irish love and your way will find him i wonder clearly down of rocky road to dublin and love be seen place tears and i followed with napper\n"
          ]
        }
      ]
    }
  ]
}
