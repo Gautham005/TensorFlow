{
  "nbformat": 4,
  "nbformat_minor": 0,
  "metadata": {
    "accelerator": "GPU",
    "colab": {
      "name": "IMDB Classifier with Multi-Layer LSTM.ipynb",
      "provenance": [],
      "collapsed_sections": [],
      "toc_visible": true
    },
    "kernelspec": {
      "name": "python3",
      "display_name": "Python 3"
    },
    "language_info": {
      "name": "python"
    }
  },
  "cells": [
    {
      "cell_type": "code",
      "metadata": {
        "id": "Y20Lud2ZMBhW",
        "outputId": "e0e9e4fd-c4b2-4d00-dba6-161284c3c1e3",
        "colab": {
          "base_uri": "https://localhost:8080/"
        }
      },
      "source": [
        "from __future__ import absolute_import, division, print_function, unicode_literals\n",
        "\n",
        "\n",
        "import tensorflow_datasets as tfds\n",
        "import tensorflow as tf\n",
        "print(tf.__version__)"
      ],
      "execution_count": 1,
      "outputs": [
        {
          "output_type": "stream",
          "name": "stdout",
          "text": [
            "2.7.0\n"
          ]
        }
      ]
    },
    {
      "cell_type": "code",
      "metadata": {
        "id": "AW-4Vo4TMUHb"
      },
      "source": [
        "dataset, info = tfds.load('imdb_reviews/subwords8k', with_info=True, as_supervised=True)\n",
        "train_dataset, test_dataset = dataset['train'], dataset['test']"
      ],
      "execution_count": null,
      "outputs": []
    },
    {
      "cell_type": "code",
      "metadata": {
        "id": "L11bIR6-PKvs"
      },
      "source": [
        "tokenizer = info.features['text'].encoder"
      ],
      "execution_count": 3,
      "outputs": []
    },
    {
      "cell_type": "code",
      "metadata": {
        "id": "ffvRUI0_McDS"
      },
      "source": [
        "BUFFER_SIZE = 10000\n",
        "BATCH_SIZE = 64\n",
        "\n",
        "train_dataset = train_dataset.shuffle(BUFFER_SIZE)\n",
        "train_dataset = train_dataset.padded_batch(BATCH_SIZE, tf.compat.v1.data.get_output_shapes(train_dataset))\n",
        "test_dataset = test_dataset.padded_batch(BATCH_SIZE, tf.compat.v1.data.get_output_shapes(test_dataset))"
      ],
      "execution_count": 4,
      "outputs": []
    },
    {
      "cell_type": "code",
      "metadata": {
        "id": "jo1jjO3vn0jo"
      },
      "source": [
        "model = tf.keras.Sequential([\n",
        "    tf.keras.layers.Embedding(tokenizer.vocab_size, 64),\n",
        "    tf.keras.layers.Bidirectional(tf.keras.layers.LSTM(64, return_sequences=True)),\n",
        "    tf.keras.layers.Bidirectional(tf.keras.layers.LSTM(32)),\n",
        "    tf.keras.layers.Dense(64, activation='relu'),\n",
        "    tf.keras.layers.Dense(1, activation='sigmoid')\n",
        "])"
      ],
      "execution_count": 5,
      "outputs": []
    },
    {
      "cell_type": "code",
      "metadata": {
        "id": "QKI5dfPgMioL",
        "outputId": "f32b3fb2-35ef-4a2a-91df-5e4a8f35fa95",
        "colab": {
          "base_uri": "https://localhost:8080/"
        }
      },
      "source": [
        "model.summary()"
      ],
      "execution_count": 6,
      "outputs": [
        {
          "output_type": "stream",
          "name": "stdout",
          "text": [
            "Model: \"sequential\"\n",
            "_________________________________________________________________\n",
            " Layer (type)                Output Shape              Param #   \n",
            "=================================================================\n",
            " embedding (Embedding)       (None, None, 64)          523840    \n",
            "                                                                 \n",
            " bidirectional (Bidirectiona  (None, None, 128)        66048     \n",
            " l)                                                              \n",
            "                                                                 \n",
            " bidirectional_1 (Bidirectio  (None, 64)               41216     \n",
            " nal)                                                            \n",
            "                                                                 \n",
            " dense (Dense)               (None, 64)                4160      \n",
            "                                                                 \n",
            " dense_1 (Dense)             (None, 1)                 65        \n",
            "                                                                 \n",
            "=================================================================\n",
            "Total params: 635,329\n",
            "Trainable params: 635,329\n",
            "Non-trainable params: 0\n",
            "_________________________________________________________________\n"
          ]
        }
      ]
    },
    {
      "cell_type": "code",
      "metadata": {
        "id": "Uip7QOVzMoMq"
      },
      "source": [
        "model.compile(loss='binary_crossentropy', optimizer='adam', metrics=['accuracy'])"
      ],
      "execution_count": 7,
      "outputs": []
    },
    {
      "cell_type": "code",
      "metadata": {
        "id": "7mlgzaRDMtF6",
        "outputId": "e2b6ab73-296c-48fe-f2df-e38e876eb16c",
        "colab": {
          "base_uri": "https://localhost:8080/"
        }
      },
      "source": [
        "Num_epochs = 10\n",
        "history = model.fit(train_dataset, epochs=Num_epochs, validation_data=test_dataset)"
      ],
      "execution_count": 8,
      "outputs": [
        {
          "output_type": "stream",
          "name": "stdout",
          "text": [
            "Epoch 1/10\n",
            "391/391 [==============================] - 322s 798ms/step - loss: 0.5949 - accuracy: 0.6799 - val_loss: 0.5781 - val_accuracy: 0.7073\n",
            "Epoch 2/10\n",
            "391/391 [==============================] - 309s 788ms/step - loss: 0.4353 - accuracy: 0.8098 - val_loss: 0.5060 - val_accuracy: 0.7644\n",
            "Epoch 3/10\n",
            "391/391 [==============================] - 310s 793ms/step - loss: 0.3420 - accuracy: 0.8612 - val_loss: 0.4811 - val_accuracy: 0.7852\n",
            "Epoch 4/10\n",
            "391/391 [==============================] - 310s 791ms/step - loss: 0.3756 - accuracy: 0.8418 - val_loss: 0.7671 - val_accuracy: 0.7470\n",
            "Epoch 5/10\n",
            "391/391 [==============================] - 309s 789ms/step - loss: 0.4537 - accuracy: 0.7930 - val_loss: 0.4126 - val_accuracy: 0.8188\n",
            "Epoch 6/10\n",
            "391/391 [==============================] - 309s 790ms/step - loss: 0.2727 - accuracy: 0.8938 - val_loss: 0.4056 - val_accuracy: 0.8290\n",
            "Epoch 7/10\n",
            "391/391 [==============================] - 309s 788ms/step - loss: 0.2228 - accuracy: 0.9156 - val_loss: 0.3736 - val_accuracy: 0.8563\n",
            "Epoch 8/10\n",
            "391/391 [==============================] - 308s 786ms/step - loss: 0.1855 - accuracy: 0.9328 - val_loss: 0.3388 - val_accuracy: 0.8598\n",
            "Epoch 9/10\n",
            "391/391 [==============================] - 306s 781ms/step - loss: 0.1435 - accuracy: 0.9512 - val_loss: 0.3709 - val_accuracy: 0.8693\n",
            "Epoch 10/10\n",
            "391/391 [==============================] - 308s 785ms/step - loss: 0.1110 - accuracy: 0.9636 - val_loss: 0.4056 - val_accuracy: 0.8580\n"
          ]
        }
      ]
    },
    {
      "cell_type": "code",
      "metadata": {
        "id": "Mp1Z7P9pYRSK"
      },
      "source": [
        "import matplotlib.pyplot as plt\n",
        "\n",
        "\n",
        "def plot_graphs(history, string):\n",
        "  plt.plot(history.history[string])\n",
        "  plt.plot(history.history['val_'+string])\n",
        "  plt.xlabel(\"Epochs\")\n",
        "  plt.ylabel(string)\n",
        "  plt.legend([string, 'val_'+string])\n",
        "  plt.show()"
      ],
      "execution_count": 9,
      "outputs": []
    },
    {
      "cell_type": "code",
      "metadata": {
        "id": "R_sX6ilIM515",
        "outputId": "2b01c90b-92b9-4531-c2ae-e1a8e7b014ad",
        "colab": {
          "base_uri": "https://localhost:8080/",
          "height": 278
        }
      },
      "source": [
        "plot_graphs(history, 'accuracy')"
      ],
      "execution_count": 10,
      "outputs": [
        {
          "output_type": "display_data",
          "data": {
            "image/png": "[encoded data removed]",
            "text/plain": [
              "<Figure size 432x288 with 1 Axes>"
            ]
          },
          "metadata": {
            "needs_background": "light"
          }
        }
      ]
    },
    {
      "cell_type": "code",
      "metadata": {
        "id": "RFEXtKtqNARB",
        "outputId": "13f20985-9e8c-4cbd-aaeb-5aa97ea36e32",
        "colab": {
          "base_uri": "https://localhost:8080/",
          "height": 278
        }
      },
      "source": [
        "plot_graphs(history, 'loss')"
      ],
      "execution_count": 11,
      "outputs": [
        {
          "output_type": "display_data",
          "data": {
            "image/png": "[encoded data removed]",
            "text/plain": [
              "<Figure size 432x288 with 1 Axes>"
            ]
          },
          "metadata": {
            "needs_background": "light"
          }
        }
      ]
    }
  ]
}