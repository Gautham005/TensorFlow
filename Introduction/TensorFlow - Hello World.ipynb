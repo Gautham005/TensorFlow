{
  "nbformat": 4,
  "nbformat_minor": 0,
  "metadata": {
    "colab": {
      "name": "TensorFlow - Hello World - 1.1",
      "provenance": [],
      "collapsed_sections": []
    },
    "kernelspec": {
      "name": "python3",
      "display_name": "Python 3"
    },
    "language_info": {
      "name": "python"
    }
  },
  "cells": [
    {
      "cell_type": "code",
      "metadata": {
        "id": "y1WqC47IvTwA"
      },
      "source": [
        "!pip install tensorflow==2.5.0"
      ],
      "execution_count": null,
      "outputs": []
    },
    {
      "cell_type": "code",
      "metadata": {
        "id": "MmzALxuGujEM"
      },
      "source": [
        "import tensorflow as tf\n",
        "import numpy as np\n",
        "from tensorflow import keras"
      ],
      "execution_count": null,
      "outputs": []
    },
    {
      "cell_type": "markdown",
      "metadata": {
        "id": "2CMmYoQlzhCs"
      },
      "source": [
        "Define and Compile Neural Network"
      ]
    },
    {
      "cell_type": "code",
      "metadata": {
        "id": "PHityY3Yv31Y"
      },
      "source": [
        "model = keras.Sequential([keras.layers.Dense(units=1, input_shape = [1])])\n",
        "model.compile(optimizer='sgd', loss='mean_squared_error')"
      ],
      "execution_count": null,
      "outputs": []
    },
    {
      "cell_type": "markdown",
      "metadata": {
        "id": "8ay_b_agzmPs"
      },
      "source": [
        "Providing the Data"
      ]
    },
    {
      "cell_type": "code",
      "metadata": {
        "id": "JaKyrQK3v5Bp"
      },
      "source": [
        "xs = np.array([-1.0,  0.0, 1.0, 2.0, 3.0, 4.0], dtype=float)\n",
        "ys = np.array([-3.0, -1.0, 1.0, 3.0, 5.0, 7.0], dtype=float)"
      ],
      "execution_count": null,
      "outputs": []
    },
    {
      "cell_type": "markdown",
      "metadata": {
        "id": "CteMrXmNzpWD"
      },
      "source": [
        "Training the Neural Network"
      ]
    },
    {
      "cell_type": "code",
      "metadata": {
        "id": "JT4kP8rlyEev"
      },
      "source": [
        "model.fit(xs, ys, epochs=500) #goes through training loop 500 times"
      ],
      "execution_count": null,
      "outputs": []
    },
    {
      "cell_type": "code",
      "metadata": {
        "colab": {
          "base_uri": "https://localhost:8080/"
        },
        "id": "sV7_AXrhyOv_",
        "outputId": "b8761b6a-df66-4ac1-bf04-95afc0a3f871"
      },
      "source": [
        "print(model.predict([10.0]))"
      ],
      "execution_count": null,
      "outputs": [
        {
          "output_type": "stream",
          "name": "stdout",
          "text": [
            "[[18.980696]]\n"
          ]
        }
      ]
    }
  ]
}